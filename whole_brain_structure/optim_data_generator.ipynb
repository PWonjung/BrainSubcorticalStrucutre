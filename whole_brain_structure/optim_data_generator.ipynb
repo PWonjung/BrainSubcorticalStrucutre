{
 "cells": [
  {
   "cell_type": "code",
   "execution_count": 2,
   "metadata": {},
   "outputs": [
    {
     "name": "stdout",
     "output_type": "stream",
     "text": [
      "Jupyter environment detected. Enabling Open3D WebVisualizer.\n",
      "[Open3D INFO] WebRTC GUI backend enabled.\n",
      "[Open3D INFO] WebRTCWindowSystem: HTTP handshake server disabled.\n",
      "693 ['LBC360002', 'LBC360003', 'LBC360004', 'LBC360006', 'LBC360007', 'LBC360008', 'LBC360009', 'LBC360013', 'LBC360015', 'LBC360017', 'LBC360020', 'LBC360021', 'LBC360022', 'LBC360023', 'LBC360025', 'LBC360026', 'LBC360029', 'LBC360030', 'LBC360031', 'LBC360032', 'LBC360034', 'LBC360036', 'LBC360038', 'LBC360040', 'LBC360041', 'LBC360042', 'LBC360043', 'LBC360045', 'LBC360048', 'LBC360049', 'LBC360051', 'LBC360052', 'LBC360055', 'LBC360056', 'LBC360058', 'LBC360059', 'LBC360061', 'LBC360063', 'LBC360066', 'LBC360067', 'LBC360069', 'LBC360070', 'LBC360072', 'LBC360074', 'LBC360076', 'LBC360079', 'LBC360081', 'LBC360082', 'LBC360083', 'LBC360085', 'LBC360086', 'LBC360087', 'LBC360089', 'LBC360091', 'LBC360092', 'LBC360097', 'LBC360100', 'LBC360102', 'LBC360104', 'LBC360106', 'LBC360107', 'LBC360108', 'LBC360109', 'LBC360110', 'LBC360111', 'LBC360114', 'LBC360118', 'LBC360119', 'LBC360125', 'LBC360126', 'LBC360127', 'LBC360128', 'LBC360132', 'LBC360136', 'LBC360137', 'LBC360138', 'LBC360139', 'LBC360140', 'LBC360141', 'LBC360144', 'LBC360145', 'LBC360146', 'LBC360150', 'LBC360151', 'LBC360152', 'LBC360155', 'LBC360158', 'LBC360160', 'LBC360161', 'LBC360162', 'LBC360166', 'LBC360167', 'LBC360168', 'LBC360169', 'LBC360170', 'LBC360172', 'LBC360173', 'LBC360176', 'LBC360178', 'LBC360179', 'LBC360181', 'LBC360182', 'LBC360183', 'LBC360184', 'LBC360185', 'LBC360186', 'LBC360187', 'LBC360188', 'LBC360189', 'LBC360190', 'LBC360191', 'LBC360192', 'LBC360194', 'LBC360195', 'LBC360196', 'LBC360199', 'LBC360202', 'LBC360204', 'LBC360205', 'LBC360208', 'LBC360209', 'LBC360210', 'LBC360211', 'LBC360212', 'LBC360213', 'LBC360214', 'LBC360215', 'LBC360217', 'LBC360218', 'LBC360219', 'LBC360220', 'LBC360221', 'LBC360222', 'LBC360223', 'LBC360224', 'LBC360225', 'LBC360227', 'LBC360228', 'LBC360229', 'LBC360230', 'LBC360231', 'LBC360232', 'LBC360233', 'LBC360234', 'LBC360235', 'LBC360237', 'LBC360238', 'LBC360240', 'LBC360241', 'LBC360244', 'LBC360246', 'LBC360247', 'LBC360248', 'LBC360251', 'LBC360254', 'LBC360256', 'LBC360257', 'LBC360259', 'LBC360261', 'LBC360262', 'LBC360263', 'LBC360264', 'LBC360267', 'LBC360268', 'LBC360270', 'LBC360271', 'LBC360273', 'LBC360274', 'LBC360275', 'LBC360276', 'LBC360277', 'LBC360280', 'LBC360282', 'LBC360283', 'LBC360284', 'LBC360286', 'LBC360290', 'LBC360291', 'LBC360292', 'LBC360293', 'LBC360299', 'LBC360301', 'LBC360303', 'LBC360304', 'LBC360309', 'LBC360312', 'LBC360313', 'LBC360316', 'LBC360318', 'LBC360321', 'LBC360324', 'LBC360330', 'LBC360331', 'LBC360333', 'LBC360334', 'LBC360336', 'LBC360342', 'LBC360343', 'LBC360346', 'LBC360348', 'LBC360349', 'LBC360350', 'LBC360352', 'LBC360353', 'LBC360354', 'LBC360357', 'LBC360361', 'LBC360363', 'LBC360367', 'LBC360370', 'LBC360373', 'LBC360375', 'LBC360376', 'LBC360378', 'LBC360381', 'LBC360383', 'LBC360385', 'LBC360386', 'LBC360387', 'LBC360391', 'LBC360393', 'LBC360394', 'LBC360395', 'LBC360397', 'LBC360398', 'LBC360400', 'LBC360405', 'LBC360406', 'LBC360407', 'LBC360411', 'LBC360412', 'LBC360414', 'LBC360415', 'LBC360418', 'LBC360420', 'LBC360423', 'LBC360424', 'LBC360426', 'LBC360430', 'LBC360431', 'LBC360434', 'LBC360435', 'LBC360436', 'LBC360437', 'LBC360439', 'LBC360442', 'LBC360443', 'LBC360444', 'LBC360445', 'LBC360446', 'LBC360448', 'LBC360450', 'LBC360452', 'LBC360453', 'LBC360456', 'LBC360458', 'LBC360459', 'LBC360461', 'LBC360463', 'LBC360465', 'LBC360467', 'LBC360468', 'LBC360469', 'LBC360470', 'LBC360473', 'LBC360474', 'LBC360475', 'LBC360476', 'LBC360482', 'LBC360483', 'LBC360484', 'LBC360485', 'LBC360487', 'LBC360488', 'LBC360489', 'LBC360492', 'LBC360493', 'LBC360494', 'LBC360497', 'LBC360498', 'LBC360501', 'LBC360504', 'LBC360505', 'LBC360506', 'LBC360508', 'LBC360509', 'LBC360510', 'LBC360511', 'LBC360512', 'LBC360513', 'LBC360516', 'LBC360527', 'LBC360532', 'LBC360533', 'LBC360536', 'LBC360537', 'LBC360539', 'LBC360540', 'LBC360542', 'LBC360546', 'LBC360547', 'LBC360549', 'LBC360550', 'LBC360551', 'LBC360555', 'LBC360557', 'LBC360558', 'LBC360559', 'LBC360560', 'LBC360561', 'LBC360562', 'LBC360563', 'LBC360564', 'LBC360571', 'LBC360572', 'LBC360574', 'LBC360575', 'LBC360576', 'LBC360585', 'LBC360588', 'LBC360594', 'LBC360598', 'LBC360599', 'LBC360600', 'LBC360602', 'LBC360603', 'LBC360604', 'LBC360605', 'LBC360607', 'LBC360609', 'LBC360611', 'LBC360612', 'LBC360613', 'LBC360617', 'LBC360618', 'LBC360620', 'LBC360622', 'LBC360623', 'LBC360624', 'LBC360627', 'LBC360628', 'LBC360629', 'LBC360635', 'LBC360636', 'LBC360640', 'LBC360643', 'LBC360646', 'LBC360647', 'LBC360648', 'LBC360649', 'LBC360652', 'LBC360653', 'LBC360654', 'LBC360655', 'LBC360656', 'LBC360657', 'LBC360658', 'LBC360659', 'LBC360660', 'LBC360661', 'LBC360662', 'LBC360663', 'LBC360664', 'LBC360666', 'LBC360667', 'LBC360670', 'LBC360673', 'LBC360674', 'LBC360677', 'LBC360678', 'LBC360679', 'LBC360680', 'LBC360681', 'LBC360685', 'LBC360687', 'LBC360689', 'LBC360690', 'LBC360695', 'LBC360696', 'LBC360697', 'LBC360698', 'LBC360700', 'LBC360702', 'LBC360703', 'LBC360704', 'LBC360705', 'LBC360709', 'LBC360710', 'LBC360712', 'LBC360717', 'LBC360718', 'LBC360719', 'LBC360720', 'LBC360722', 'LBC360725', 'LBC360726', 'LBC360727', 'LBC360728', 'LBC360729', 'LBC360730', 'LBC360731', 'LBC360732', 'LBC360733', 'LBC360734', 'LBC360736', 'LBC360744', 'LBC360745', 'LBC360746', 'LBC360747', 'LBC360752', 'LBC360753', 'LBC360754', 'LBC360755', 'LBC360760', 'LBC360761', 'LBC360763', 'LBC360765', 'LBC360767', 'LBC360770', 'LBC360771', 'LBC360772', 'LBC360773', 'LBC360776', 'LBC360777', 'LBC360778', 'LBC360781', 'LBC360782', 'LBC360783', 'LBC360784', 'LBC360786', 'LBC360787', 'LBC360788', 'LBC360790', 'LBC360791', 'LBC360794', 'LBC360796', 'LBC360799', 'LBC360801', 'LBC360802', 'LBC360804', 'LBC360807', 'LBC360809', 'LBC360810', 'LBC360812', 'LBC360813', 'LBC360814', 'LBC360822', 'LBC360823', 'LBC360827', 'LBC360830', 'LBC360831', 'LBC360832', 'LBC360834', 'LBC360835', 'LBC360840', 'LBC360842', 'LBC360843', 'LBC360844', 'LBC360845', 'LBC360846', 'LBC360847', 'LBC360849', 'LBC360851', 'LBC360853', 'LBC360857', 'LBC360861', 'LBC360862', 'LBC360863', 'LBC360864', 'LBC360865', 'LBC360866', 'LBC360868', 'LBC360869', 'LBC360870', 'LBC360871', 'LBC360873', 'LBC360876', 'LBC360877', 'LBC360878', 'LBC360879', 'LBC360880', 'LBC360881', 'LBC360883', 'LBC360887', 'LBC360891', 'LBC360894', 'LBC360895', 'LBC360898', 'LBC360902', 'LBC360903', 'LBC360905', 'LBC360906', 'LBC360907', 'LBC360908', 'LBC360911', 'LBC360912', 'LBC360913', 'LBC360914', 'LBC360917', 'LBC360918', 'LBC360919', 'LBC360925', 'LBC360926', 'LBC360928', 'LBC360933', 'LBC360934', 'LBC360936', 'LBC360937', 'LBC360940', 'LBC360944', 'LBC360945', 'LBC360947', 'LBC360950', 'LBC360951', 'LBC360959', 'LBC360960', 'LBC360963', 'LBC360965', 'LBC360966', 'LBC360967', 'LBC360968', 'LBC360969', 'LBC360970', 'LBC360971', 'LBC360972', 'LBC360973', 'LBC360974', 'LBC360975', 'LBC360976', 'LBC360978', 'LBC360980', 'LBC360982', 'LBC360987', 'LBC360988', 'LBC360990', 'LBC360993', 'LBC360995', 'LBC360996', 'LBC361000', 'LBC361001', 'LBC361006', 'LBC361007', 'LBC361009', 'LBC361010', 'LBC361015', 'LBC361017', 'LBC361018', 'LBC361019', 'LBC361020', 'LBC361022', 'LBC361023', 'LBC361027', 'LBC361028', 'LBC361030', 'LBC361031', 'LBC361032', 'LBC361034', 'LBC361035', 'LBC361037', 'LBC361038', 'LBC361040', 'LBC361043', 'LBC361045', 'LBC361046', 'LBC361047', 'LBC361048', 'LBC361049', 'LBC361050', 'LBC361051', 'LBC361053', 'LBC361055', 'LBC361057', 'LBC361060', 'LBC361061', 'LBC361062', 'LBC361063', 'LBC361068', 'LBC361070', 'LBC361073', 'LBC361077', 'LBC361079', 'LBC361080', 'LBC361082', 'LBC361083', 'LBC361087', 'LBC361092', 'LBC361093', 'LBC361096', 'LBC361097', 'LBC361104', 'LBC361107', 'LBC361110', 'LBC361111', 'LBC361113', 'LBC361114', 'LBC361119', 'LBC361120', 'LBC361122', 'LBC361123', 'LBC361124', 'LBC361126', 'LBC361131', 'LBC361132', 'LBC361133', 'LBC361134', 'LBC361137', 'LBC361138', 'LBC361139', 'LBC361141', 'LBC361143', 'LBC361147', 'LBC361148', 'LBC361150', 'LBC361152', 'LBC361153', 'LBC361154', 'LBC361155', 'LBC361156', 'LBC361157', 'LBC361164', 'LBC361167', 'LBC361169', 'LBC361170', 'LBC361171', 'LBC361172', 'LBC361173', 'LBC361176', 'LBC361179', 'LBC361180', 'LBC361181', 'LBC361182', 'LBC361183', 'LBC361185', 'LBC361187', 'LBC361189', 'LBC361191', 'LBC361192', 'LBC361196', 'LBC361197', 'LBC361198', 'LBC361200', 'LBC361201', 'LBC361202', 'LBC361203', 'LBC361209', 'LBC361211', 'LBC361213', 'LBC361217', 'LBC361221', 'LBC361224', 'LBC361227', 'LBC361229', 'LBC361231', 'LBC361232', 'LBC361233', 'LBC361236', 'LBC361238', 'LBC361239', 'LBC361246', 'LBC361247', 'LBC361249', 'LBC361255', 'LBC361256', 'LBC361257', 'LBC361262', 'LBC361264', 'LBC361266', 'LBC361269', 'LBC361270', 'LBC361271', 'LBC361278', 'LBC361280', 'LBC361282', 'LBC361283', 'LBC361284', 'LBC361285', 'LBC361286', 'LBC361287', 'LBC361288', 'LBC361290', 'LBC361291', 'LBC361292', 'LBC361294', 'LBC361296', 'LBC361297', 'LBC361299', 'LBC361300', 'LBC361302', 'LBC361303', 'LBC361305', 'LBC361306', 'LBC361307', 'LBC361308']\n"
     ]
    }
   ],
   "source": [
    "########## Import Libararies\n",
    "import os\n",
    "import pickle\n",
    "import glob\n",
    "from tqdm.notebook import tqdm\n",
    "\n",
    "import numpy as np\n",
    "from skimage import measure\n",
    "import scipy.ndimage\n",
    "import matplotlib.pyplot as plt\n",
    "from matplotlib import rc\n",
    "%matplotlib inline\n",
    "\n",
    "import open3d as o3d\n",
    "from compas.geometry import trimesh_remesh\n",
    "from compas.datastructures import Mesh\n",
    "import nibabel as nib\n",
    "\n",
    "from util import *\n",
    "\n",
    "import csv\n",
    "import copy\n",
    "\n",
    "flag = \"manual\" # manual or synthseg\n",
    "\n",
    "import csv\n",
    "def read_sub(file_path):\n",
    "    data = []\n",
    "    with open(file_path, mode='r') as file:\n",
    "        csv_reader = csv.reader(file)\n",
    "        for index, row in enumerate(csv_reader):\n",
    "            if index==0: continue\n",
    "            else:\n",
    "                id= row[0]\n",
    "                data.append(id)\n",
    "    return data\n",
    "common_sub_csv =  rf\"D:\\NextCloud\\원정\\2024\\Data-to-KAIST\\sub.csv\"\n",
    "common_dict = read_sub(common_sub_csv)\n",
    "print(len(common_dict), common_dict)\n"
   ]
  },
  {
   "cell_type": "code",
   "execution_count": null,
   "metadata": {},
   "outputs": [
    {
     "data": {
      "application/vnd.jupyter.widget-view+json": {
       "model_id": "a158899f76664c1ea688af2d86bf2af7",
       "version_major": 2,
       "version_minor": 0
      },
      "text/plain": [
       "0it [00:00, ?it/s]"
      ]
     },
     "metadata": {},
     "output_type": "display_data"
    }
   ],
   "source": [
    "######### Read Hippo Temp Mesh #########\n",
    "classes = [10,11,12,13,17,18,26,28,49,50,51,52,53,54,58,60]\n",
    "temp_meshes = []\n",
    "temp_pcds= []\n",
    "for c in classes:\n",
    "  temp_mesh = o3d.io.read_triangle_mesh(rf\"D:\\IdeaProjects\\IITP_synth\\lv-parametric-modelling\\whole_brain_structure\\temp_meshes\\{c}_temp.obj\")\n",
    "  temp_meshes.append(temp_mesh)\n",
    "  temp_pcd = o3d.geometry.PointCloud(points=temp_mesh.vertices)\n",
    "  temp_pcd.normals = temp_mesh.vertex_normals\n",
    "  temp_pcds.append(temp_pcd)\n",
    "\n",
    "\n",
    "scan_path = rf\"D:\\Data-to-KAIST\\masks_npy\\synthseg_wave1\"\n",
    "filelist = glob.glob(rf\"{scan_path}\\*.npy\")\n",
    "subs = os.listdir(scan_path)\n",
    "save_path = r\"D:\\Data-to-KAIST\\Task4) longi-subcortical\"\n",
    "\n",
    "for index, file in tqdm(enumerate(filelist)):\n",
    "\n",
    "\tmasks = np.load(file)\t\n",
    "\tsub= file.split(\"\\\\\")[-1].split(\".\")[0]\t\t\n",
    "\tfor c_ind, c in enumerate(classes):\n",
    "\t\ttarget_mask = (masks == c).astype(int)\n",
    "\t\ttarget_pcd = voxel_to_bd_pcd(target_mask)\n",
    "\t\ttarget_pcd = pcd_to_orgin(target_pcd)\n",
    "\n",
    "\t\tregist_mesh_pcd(target_pcd, temp_pcds[c_ind],normal=False)\n",
    "\t\ttarget_pcd.paint_uniform_color([1, 0.706, 0])\n",
    "\t\ttemp_pcds[c_ind].paint_uniform_color([0, 0.651, 0.929])\n",
    "\t\t# o3d.visualization.draw_geometries([temp_pcds[c_ind], target_pcd])\n",
    "\n",
    "\t\tdata = {}\n",
    "\t\tdata['vertices'] = np.asarray(temp_meshes[c_ind].vertices)\n",
    "\t\tdata['faces'] = np.asarray(temp_meshes[c_ind].triangles)\n",
    "\t\tdata['target'] = np.asarray(target_pcd.points)\n",
    "\t\twith open(rf'{save_path}\\{c}\\{sub}_{c}_scan1_opt_data.pkl', 'wb') as f:\n",
    "\t\t\tpickle.dump(data, f)\n",
    "\n"
   ]
  },
  {
   "cell_type": "code",
   "execution_count": null,
   "metadata": {},
   "outputs": [],
   "source": [
    "import os\n",
    "classes = [10,11,12,13,17,18,26,28,49,50,51,52,53,54,58,60]\n",
    "for c in classes:\n",
    "\tos.makedirs(rf\"D:\\Data-to-KAIST\\Task4) longi-subcortical\\scan4_train_data\\{c}\",exist_ok=True)"
   ]
  },
  {
   "cell_type": "code",
   "execution_count": null,
   "metadata": {},
   "outputs": [
    {
     "name": "stdout",
     "output_type": "stream",
     "text": [
      "(6170, 3)\n"
     ]
    }
   ],
   "source": [
    "vert = np.array(hippo_l_mesh.triangles)\n",
    "print(vert.shape)"
   ]
  },
  {
   "cell_type": "code",
   "execution_count": null,
   "metadata": {},
   "outputs": [
    {
     "name": "stdout",
     "output_type": "stream",
     "text": [
      "(1456, 3)\n",
      "(1456, 3)\n",
      "(1456, 3)\n",
      "(1456, 3)\n",
      "(1456, 3)\n",
      "10\n",
      "(1423, 3)\n",
      "(1423, 3)\n",
      "(1423, 3)\n",
      "(1423, 3)\n",
      "(1423, 3)\n",
      "11\n",
      "(1549, 3)\n",
      "(1549, 3)\n",
      "(1549, 3)\n",
      "(1549, 3)\n",
      "(1549, 3)\n",
      "12\n",
      "(613, 3)\n",
      "(613, 3)\n",
      "(613, 3)\n",
      "(613, 3)\n",
      "(613, 3)\n",
      "13\n",
      "(1490, 3)\n",
      "(1490, 3)\n",
      "(1490, 3)\n",
      "(1490, 3)\n",
      "(1490, 3)\n",
      "17\n",
      "(623, 3)\n",
      "(623, 3)\n",
      "(623, 3)\n",
      "(623, 3)\n",
      "(623, 3)\n",
      "18\n",
      "(336, 3)\n",
      "(336, 3)\n",
      "(336, 3)\n",
      "(336, 3)\n",
      "(336, 3)\n",
      "26\n",
      "(1307, 3)\n",
      "(1307, 3)\n",
      "(1307, 3)\n",
      "(1307, 3)\n",
      "(1307, 3)\n",
      "28\n",
      "(1412, 3)\n",
      "(1412, 3)\n",
      "(1412, 3)\n",
      "(1412, 3)\n",
      "(1412, 3)\n",
      "49\n",
      "(1492, 3)\n",
      "(1492, 3)\n",
      "(1492, 3)\n",
      "(1492, 3)\n",
      "(1492, 3)\n",
      "50\n",
      "(1521, 3)\n",
      "(1521, 3)\n",
      "(1521, 3)\n",
      "(1521, 3)\n",
      "(1521, 3)\n",
      "51\n",
      "(600, 3)\n",
      "(600, 3)\n",
      "(600, 3)\n",
      "(600, 3)\n",
      "(600, 3)\n",
      "52\n",
      "(1492, 3)\n",
      "(1492, 3)\n",
      "(1492, 3)\n",
      "(1492, 3)\n",
      "(1492, 3)\n",
      "53\n",
      "(631, 3)\n",
      "(631, 3)\n",
      "(631, 3)\n",
      "(631, 3)\n",
      "(631, 3)\n",
      "54\n",
      "(325, 3)\n",
      "(325, 3)\n",
      "(325, 3)\n",
      "(325, 3)\n",
      "(325, 3)\n",
      "58\n",
      "(1303, 3)\n",
      "(1303, 3)\n",
      "(1303, 3)\n",
      "(1303, 3)\n",
      "(1303, 3)\n",
      "60\n"
     ]
    }
   ],
   "source": [
    "import numpy as np\n",
    "classes = [10,11,12,13,17,18,26,28,49,50,51,52,53,54,58,60]\n",
    "for label in classes:\n",
    "\toptim_path = rf\"D:\\Data-to-KAIST\\Task4) longi-subcortical\\scan1_optimed_data\\{label}_scan1\\out\"\n",
    "\ttrain_path = rf\"D:\\Data-to-KAIST\\Task4) longi-subcortical\\scan1_train_data\\{label}\"\n",
    "\tsubs = os.listdir(optim_path)\n",
    "\tfor ind, sub in enumerate(subs):\n",
    "\t\twith open(rf'D:\\Data-to-KAIST\\Task4) longi-subcortical\\scan1_train_data\\{label}\\{sub}_{label}_scan1_opt_data.pkl', 'rb') as f:\n",
    "\t\t\tdata = pickle.load(f)\n",
    "\t\tvert = data['vertices']\n",
    "\t\tface = data['faces']\n",
    "\t\ttarget = data['target']\n",
    "\t\tface0 = face.copy()\n",
    "\t\tface[:,2],face[:,0] = face0[:,0],face0[:,2]\n",
    "\t\n",
    "\t\ttarget_p = o3d.geometry.PointCloud(points = o3d.utility.Vector3dVector(target))\n",
    "\n",
    "\t\tdeformed_mesh = o3d.geometry.TriangleMesh(vertices = o3d.utility.Vector3dVector(vert), triangles = o3d.utility.Vector3iVector(face))\n",
    "\t\tnewvert= np.load(glob.glob(rf\"{optim_path}\\{sub}\\5000*.npy\")[0])[0]\n",
    "\t\tdeformed_mesh.vertices = o3d.utility.Vector3dVector(newvert)\n",
    "\t\tprint(vert.shape)\n",
    "\t\to3d.visualization.draw_geometries([deformed_mesh, target_p])\n",
    "\t\tif ind >3: \n",
    "\t\t\tprint(label)\n",
    "\t\t\tbreak\n"
   ]
  },
  {
   "cell_type": "markdown",
   "metadata": {},
   "source": [
    "# Scan1 > 2\n"
   ]
  },
  {
   "cell_type": "code",
   "execution_count": null,
   "metadata": {},
   "outputs": [
    {
     "data": {
      "application/vnd.jupyter.widget-view+json": {
       "model_id": "80db15f249484c5ab7811fad5daf3395",
       "version_major": 2,
       "version_minor": 0
      },
      "text/plain": [
       "0it [00:00, ?it/s]"
      ]
     },
     "metadata": {},
     "output_type": "display_data"
    }
   ],
   "source": [
    "\n",
    "######### Read Hippo Temp Mesh #########\n",
    "classes = [58]\n",
    "for label in classes:\n",
    "\ttemp_mesh = o3d.io.read_triangle_mesh(rf\"D:\\IdeaProjects\\IITP_synth\\lv-parametric-modelling\\whole_brain_structure\\temp_meshes\\{label}_temp.obj\")\n",
    "\ttemp_mesh.compute_vertex_normals()\n",
    "\ttemp_mesh.paint_uniform_color([0.7, 1.0, 0.7])\n",
    "\t# o3d.visualization.draw_geometries([temp_mesh])\n",
    "\n",
    "\ttemp_pcd = o3d.geometry.PointCloud(points=temp_mesh.vertices)\n",
    "\ttemp_pcd.normals = temp_mesh.vertex_normals\n",
    "\n",
    "\t# o3d.visualization.draw_geometries([temp_mesh, R_temp_mesh])\n",
    "\n",
    "\t# filelist = glob.glob(\"W:\\LBC1936_SynthSeg_masks\\Scan1Wave2_T1W\\*\\*SynthSeg.nii.gz\") #synthseg \n",
    "\n",
    "\tsave_path = rf\"D:\\Data-to-KAIST\\Task4) longi-subcortical\\scan2_train_data\\{label}\"\n",
    "\tsubs = os.listdir(save_path)\n",
    "\n",
    "\toptim_path = r\"D:\\Data-to-KAIST\\masks_npy\\synthseg_wave2\"\n",
    "\n",
    "\tpast_optim_path_l = rf\"D:\\Data-to-KAIST\\Task4) longi-subcortical\\scan1_optimed_data\\{label}_scan1\\out\"\n",
    "\n",
    "\n",
    "\tsubs= os.listdir(optim_path)\n",
    "\t\t\n",
    "\tfor index, sub in tqdm(enumerate(subs)):\n",
    "\t\tmasks = np.load(rf\"{optim_path}\\{sub}\")\t\n",
    "\t\ttarget_mask = (masks == label).astype(int)\n",
    "\t\ttarget_pcd = voxel_to_bd_pcd(target_mask)\n",
    "\t\ttarget_pcd = pcd_to_orgin(target_pcd)\n",
    "\t\tsub= sub.split(\".\")[0]\n",
    "\t\tif os.path.isdir(rf\"{past_optim_path_l}\\{sub}\"):\n",
    "\n",
    "\t\t\tpast_mesh = copy.deepcopy(temp_mesh)\n",
    "\t\t\tpast_mesh.vertices = o3d.utility.Vector3dVector(np.load(glob.glob(rf\"{past_optim_path_l}\\{sub}\\5000*.npy\")[0])[0])\n",
    "\t\t\tpast_mesh.compute_vertex_normals()\n",
    "\t\t\tpast_pcd = o3d.geometry.PointCloud(points = past_mesh.vertices)\n",
    "\t\t\tpast_pcd.normals = past_mesh.vertex_normals\n",
    "\n",
    "\t\t\tstand_pcd= past_pcd\n",
    "\t\t\tstand_mesh= past_mesh\n",
    "\t\telse:\n",
    "\t\t\tstand_pcd = temp_pcd\n",
    "\t\t\tstand_mesh = temp_mesh\n",
    "\n",
    "\n",
    "\t\tregist_mesh_pcd(target_pcd, stand_pcd, normal=False)\n",
    "\t\ttarget_pcd.paint_uniform_color([1, 0.706, 0])\n",
    "\t\ttemp_pcd.paint_uniform_color([0, 0.651, 0.929])\n",
    "\t\t# o3d.visualization.draw_geometries([target_pcd, stand_mesh])\n",
    "\n",
    "\n",
    "\t\t# Save Hippo_L optimization data\n",
    "\t\tdata = {}\n",
    "\t\tdata['vertices'] = np.asarray(stand_mesh.vertices)\n",
    "\t\tdata['faces'] = np.asarray(stand_mesh.triangles)\n",
    "\t\tdata['target'] = np.asarray(target_pcd.points)\n",
    "\t\twith open(rf'{save_path}\\{sub}_{label}_scan2_opt_data.pkl', 'wb') as f:\n",
    "\t\t\tpickle.dump(data, f)\n",
    "\t\t# if index>2: break\n",
    "\n"
   ]
  },
  {
   "cell_type": "code",
   "execution_count": null,
   "metadata": {},
   "outputs": [],
   "source": [
    "o3d.visualization.draw_geometries([hippo_l_mesh, hippo_l_pcd, stand_mesh_l])\n",
    "o3d.visualization.draw_geometries([hippo_r_mesh, hippo_r_pcd, stand_mesh_r])"
   ]
  },
  {
   "cell_type": "markdown",
   "metadata": {},
   "source": [
    "# Scan 2 > 3"
   ]
  },
  {
   "cell_type": "code",
   "execution_count": 4,
   "metadata": {},
   "outputs": [
    {
     "data": {
      "application/vnd.jupyter.widget-view+json": {
       "model_id": "f1e30ed484c74607a4b2621cdc4c1a71",
       "version_major": 2,
       "version_minor": 0
      },
      "text/plain": [
       "0it [00:00, ?it/s]"
      ]
     },
     "metadata": {},
     "output_type": "display_data"
    },
    {
     "name": "stdout",
     "output_type": "stream",
     "text": [
      "354 26 6\n"
     ]
    },
    {
     "data": {
      "application/vnd.jupyter.widget-view+json": {
       "model_id": "cc332225f1e54629ad4a0e9004198e3d",
       "version_major": 2,
       "version_minor": 0
      },
      "text/plain": [
       "0it [00:00, ?it/s]"
      ]
     },
     "metadata": {},
     "output_type": "display_data"
    },
    {
     "ename": "KeyboardInterrupt",
     "evalue": "",
     "output_type": "error",
     "traceback": [
      "\u001b[1;31m---------------------------------------------------------------------------\u001b[0m",
      "\u001b[1;31mKeyboardInterrupt\u001b[0m                         Traceback (most recent call last)",
      "Cell \u001b[1;32mIn[4], line 32\u001b[0m\n\u001b[0;32m     30\u001b[0m masks \u001b[38;5;241m=\u001b[39m np\u001b[38;5;241m.\u001b[39mload(\u001b[38;5;124mrf\u001b[39m\u001b[38;5;124m\"\u001b[39m\u001b[38;5;132;01m{\u001b[39;00moptim_path\u001b[38;5;132;01m}\u001b[39;00m\u001b[38;5;124m\\\u001b[39m\u001b[38;5;132;01m{\u001b[39;00msub\u001b[38;5;132;01m}\u001b[39;00m\u001b[38;5;124m\"\u001b[39m)\t\n\u001b[0;32m     31\u001b[0m target_mask \u001b[38;5;241m=\u001b[39m (masks \u001b[38;5;241m==\u001b[39m label)\u001b[38;5;241m.\u001b[39mastype(\u001b[38;5;28mint\u001b[39m)\n\u001b[1;32m---> 32\u001b[0m target_pcd \u001b[38;5;241m=\u001b[39m \u001b[43mvoxel_to_bd_pcd\u001b[49m\u001b[43m(\u001b[49m\u001b[43mtarget_mask\u001b[49m\u001b[43m)\u001b[49m\n\u001b[0;32m     33\u001b[0m target_pcd \u001b[38;5;241m=\u001b[39m pcd_to_orgin(target_pcd)\n\u001b[0;32m     34\u001b[0m sub\u001b[38;5;241m=\u001b[39m sub\u001b[38;5;241m.\u001b[39msplit(\u001b[38;5;124m\"\u001b[39m\u001b[38;5;124m.\u001b[39m\u001b[38;5;124m\"\u001b[39m)[\u001b[38;5;241m0\u001b[39m]\n",
      "File \u001b[1;32md:\\IdeaProjects\\IITP_synth\\lv-parametric-modelling\\whole_brain_structure\\util.py:39\u001b[0m, in \u001b[0;36mvoxel_to_bd_pcd\u001b[1;34m(voxel, threshold)\u001b[0m\n\u001b[0;32m     37\u001b[0m kernel \u001b[38;5;241m=\u001b[39m np\u001b[38;5;241m.\u001b[39mones((\u001b[38;5;241m2\u001b[39m,\u001b[38;5;241m2\u001b[39m,\u001b[38;5;241m2\u001b[39m))\n\u001b[0;32m     38\u001b[0m voxel_bd \u001b[38;5;241m=\u001b[39m scipy\u001b[38;5;241m.\u001b[39mndimage\u001b[38;5;241m.\u001b[39mconvolve((voxel)\u001b[38;5;241m.\u001b[39mastype(\u001b[38;5;28mint\u001b[39m), kernel, mode\u001b[38;5;241m=\u001b[39m\u001b[38;5;124m'\u001b[39m\u001b[38;5;124mconstant\u001b[39m\u001b[38;5;124m'\u001b[39m, cval\u001b[38;5;241m=\u001b[39m\u001b[38;5;241m0.0\u001b[39m)\n\u001b[1;32m---> 39\u001b[0m voxel_v \u001b[38;5;241m=\u001b[39m \u001b[43mnp\u001b[49m\u001b[38;5;241;43m.\u001b[39;49m\u001b[43margwhere\u001b[49m\u001b[43m(\u001b[49m\u001b[43m(\u001b[49m\u001b[43mvoxel_bd\u001b[49m\u001b[38;5;241;43m<\u001b[39;49m\u001b[43mthreshold\u001b[49m\u001b[43m)\u001b[49m\u001b[38;5;241;43m&\u001b[39;49m\u001b[43m(\u001b[49m\u001b[43mvoxel_bd\u001b[49m\u001b[38;5;241;43m>\u001b[39;49m\u001b[38;5;241;43m0\u001b[39;49m\u001b[43m)\u001b[49m\u001b[43m)\u001b[49m\u001b[38;5;241m.\u001b[39mastype(\u001b[38;5;28mfloat\u001b[39m) \u001b[38;5;241m+\u001b[39m \u001b[38;5;241m0.5\u001b[39m\n\u001b[0;32m     40\u001b[0m voxel_pcd \u001b[38;5;241m=\u001b[39m o3d\u001b[38;5;241m.\u001b[39mgeometry\u001b[38;5;241m.\u001b[39mPointCloud()\n\u001b[0;32m     41\u001b[0m voxel_pcd\u001b[38;5;241m.\u001b[39mpoints \u001b[38;5;241m=\u001b[39m o3d\u001b[38;5;241m.\u001b[39mutility\u001b[38;5;241m.\u001b[39mVector3dVector(voxel_v)\n",
      "File \u001b[1;32mc:\\Users\\fabi\\.conda\\envs\\o3d\\lib\\site-packages\\numpy\\core\\numeric.py:608\u001b[0m, in \u001b[0;36margwhere\u001b[1;34m(a)\u001b[0m\n\u001b[0;32m    606\u001b[0m     \u001b[38;5;66;03m# then remove the added dimension\u001b[39;00m\n\u001b[0;32m    607\u001b[0m     \u001b[38;5;28;01mreturn\u001b[39;00m argwhere(a)[:,:\u001b[38;5;241m0\u001b[39m]\n\u001b[1;32m--> 608\u001b[0m \u001b[38;5;28;01mreturn\u001b[39;00m transpose(\u001b[43mnonzero\u001b[49m\u001b[43m(\u001b[49m\u001b[43ma\u001b[49m\u001b[43m)\u001b[49m)\n",
      "File \u001b[1;32mc:\\Users\\fabi\\.conda\\envs\\o3d\\lib\\site-packages\\numpy\\core\\fromnumeric.py:1973\u001b[0m, in \u001b[0;36mnonzero\u001b[1;34m(a)\u001b[0m\n\u001b[0;32m   1881\u001b[0m \u001b[38;5;129m@array_function_dispatch\u001b[39m(_nonzero_dispatcher)\n\u001b[0;32m   1882\u001b[0m \u001b[38;5;28;01mdef\u001b[39;00m \u001b[38;5;21mnonzero\u001b[39m(a):\n\u001b[0;32m   1883\u001b[0m \u001b[38;5;250m    \u001b[39m\u001b[38;5;124;03m\"\"\"\u001b[39;00m\n\u001b[0;32m   1884\u001b[0m \u001b[38;5;124;03m    Return the indices of the elements that are non-zero.\u001b[39;00m\n\u001b[0;32m   1885\u001b[0m \n\u001b[1;32m   (...)\u001b[0m\n\u001b[0;32m   1971\u001b[0m \n\u001b[0;32m   1972\u001b[0m \u001b[38;5;124;03m    \"\"\"\u001b[39;00m\n\u001b[1;32m-> 1973\u001b[0m     \u001b[38;5;28;01mreturn\u001b[39;00m \u001b[43m_wrapfunc\u001b[49m\u001b[43m(\u001b[49m\u001b[43ma\u001b[49m\u001b[43m,\u001b[49m\u001b[43m \u001b[49m\u001b[38;5;124;43m'\u001b[39;49m\u001b[38;5;124;43mnonzero\u001b[39;49m\u001b[38;5;124;43m'\u001b[39;49m\u001b[43m)\u001b[49m\n",
      "File \u001b[1;32mc:\\Users\\fabi\\.conda\\envs\\o3d\\lib\\site-packages\\numpy\\core\\fromnumeric.py:59\u001b[0m, in \u001b[0;36m_wrapfunc\u001b[1;34m(obj, method, *args, **kwds)\u001b[0m\n\u001b[0;32m     56\u001b[0m     \u001b[38;5;28;01mreturn\u001b[39;00m _wrapit(obj, method, \u001b[38;5;241m*\u001b[39margs, \u001b[38;5;241m*\u001b[39m\u001b[38;5;241m*\u001b[39mkwds)\n\u001b[0;32m     58\u001b[0m \u001b[38;5;28;01mtry\u001b[39;00m:\n\u001b[1;32m---> 59\u001b[0m     \u001b[38;5;28;01mreturn\u001b[39;00m bound(\u001b[38;5;241m*\u001b[39margs, \u001b[38;5;241m*\u001b[39m\u001b[38;5;241m*\u001b[39mkwds)\n\u001b[0;32m     60\u001b[0m \u001b[38;5;28;01mexcept\u001b[39;00m \u001b[38;5;167;01mTypeError\u001b[39;00m:\n\u001b[0;32m     61\u001b[0m     \u001b[38;5;66;03m# A TypeError occurs if the object does have such a method in its\u001b[39;00m\n\u001b[0;32m     62\u001b[0m     \u001b[38;5;66;03m# class, but its signature is not identical to that of NumPy's. This\u001b[39;00m\n\u001b[1;32m   (...)\u001b[0m\n\u001b[0;32m     66\u001b[0m     \u001b[38;5;66;03m# Call _wrapit from within the except clause to ensure a potential\u001b[39;00m\n\u001b[0;32m     67\u001b[0m     \u001b[38;5;66;03m# exception has a traceback chain.\u001b[39;00m\n\u001b[0;32m     68\u001b[0m     \u001b[38;5;28;01mreturn\u001b[39;00m _wrapit(obj, method, \u001b[38;5;241m*\u001b[39margs, \u001b[38;5;241m*\u001b[39m\u001b[38;5;241m*\u001b[39mkwds)\n",
      "\u001b[1;31mKeyboardInterrupt\u001b[0m: "
     ]
    }
   ],
   "source": [
    "\n",
    "######### Read Hippo Temp Mesh #########\n",
    "classes = [10,11,12,13,17,18,26,28,49,50,51,52,53,54,58,60]\n",
    "classes= [10,11,12,13,17,18,26,28]\n",
    "for label in classes:\n",
    "\ttemp_mesh = o3d.io.read_triangle_mesh(rf\"D:\\IdeaProjects\\IITP_synth\\lv-parametric-modelling\\whole_brain_structure\\temp_meshes\\{label}_temp.obj\")\n",
    "\ttemp_mesh.compute_vertex_normals()\n",
    "\ttemp_mesh.paint_uniform_color([0.7, 1.0, 0.7])\n",
    "\t# o3d.visualization.draw_geometries([temp_mesh])\n",
    "\n",
    "\ttemp_pcd = o3d.geometry.PointCloud(points=temp_mesh.vertices)\n",
    "\ttemp_pcd.normals = temp_mesh.vertex_normals\n",
    "\n",
    "\t# o3d.visualization.draw_geometries([temp_mesh, R_temp_mesh])\n",
    "\n",
    "\t# filelist = glob.glob(\"W:\\LBC1936_SynthSeg_masks\\Scan1Wave2_T1W\\*\\*SynthSeg.nii.gz\") #synthseg \n",
    "\n",
    "\tsave_path = rf\"D:\\Data-to-KAIST\\Task4) longi-subcortical\\scan3_train_data\\{label}\"\n",
    "\tsubs = os.listdir(save_path)\n",
    "\n",
    "\toptim_path = r\"D:\\Data-to-KAIST\\masks_npy\\synthseg_wave3\"\n",
    "\n",
    "\tpast_optim_path_l = rf\"D:\\Data-to-KAIST\\Task4) longi-subcortical\\scan2_optimed_data\\{label}_scan2\\out\"\n",
    "\tpast_past_optim_path_l = rf\"D:\\Data-to-KAIST\\Task4) longi-subcortical\\scan1_optimed_data\\{label}_scan1\\out\"\n",
    "\n",
    "\n",
    "\tsubs= os.listdir(optim_path)\n",
    "\tpast_num, past_past_num, temp_num = 0, 0, 0\n",
    "\t\t\n",
    "\tfor index, sub in tqdm(enumerate(subs)):\n",
    "\t\tmasks = np.load(rf\"{optim_path}\\{sub}\")\t\n",
    "\t\ttarget_mask = (masks == label).astype(int)\n",
    "\t\ttarget_pcd = voxel_to_bd_pcd(target_mask)\n",
    "\t\ttarget_pcd = pcd_to_orgin(target_pcd)\n",
    "\t\tsub= sub.split(\".\")[0]\n",
    "\t\tif os.path.isdir(rf\"{past_optim_path_l}\\{sub}\"):\n",
    "\n",
    "\t\t\tpast_mesh = copy.deepcopy(temp_mesh)\n",
    "\t\t\tpast_mesh.vertices = o3d.utility.Vector3dVector(np.load(glob.glob(rf\"{past_optim_path_l}\\{sub}\\5000*.npy\")[0])[0])\n",
    "\t\t\tpast_mesh.compute_vertex_normals()\n",
    "\t\t\tpast_pcd = o3d.geometry.PointCloud(points = past_mesh.vertices)\n",
    "\t\t\tpast_pcd.normals = past_mesh.vertex_normals\n",
    "\n",
    "\t\t\tstand_pcd= past_pcd\n",
    "\t\t\tstand_mesh= past_mesh\n",
    "\t\t\tpast_num+=1\n",
    "\t\telif os.path.isdir(rf\"{past_past_optim_path_l}\\{sub}\"):\n",
    "\n",
    "\t\t\tpast_mesh = copy.deepcopy(temp_mesh)\n",
    "\t\t\tpast_mesh.vertices = o3d.utility.Vector3dVector(np.load(glob.glob(rf\"{past_past_optim_path_l}\\{sub}\\5000*.npy\")[0])[0])\n",
    "\t\t\tpast_mesh.compute_vertex_normals()\n",
    "\t\t\tpast_pcd = o3d.geometry.PointCloud(points = past_mesh.vertices)\n",
    "\t\t\tpast_pcd.normals = past_mesh.vertex_normals\n",
    "\n",
    "\t\t\tstand_pcd= past_pcd\n",
    "\t\t\tstand_mesh= past_mesh\n",
    "\t\t\tpast_past_num+=1\n",
    "\t\telse:\n",
    "\t\t\tstand_pcd = temp_pcd\n",
    "\t\t\tstand_mesh = temp_mesh\n",
    "\t\t\ttemp_num+=1\n",
    "\n",
    "\t\tregist_mesh_pcd(target_pcd, stand_pcd, normal=False)\n",
    "\t\ttarget_pcd.paint_uniform_color([1, 0.706, 0])\n",
    "\t\ttemp_pcd.paint_uniform_color([0, 0.651, 0.929])\n",
    "\t\t# o3d.visualization.draw_geometries([target_pcd, stand_mesh])\n",
    "\n",
    "\n",
    "\t\t# Save Hippo_L optimization data\n",
    "\t\t# data = {}\n",
    "\t\t# data['vertices'] = np.asarray(stand_mesh.vertices)\n",
    "\t\t# data['faces'] = np.asarray(stand_mesh.triangles)\n",
    "\t\t# data['target'] = np.asarray(target_pcd.points)\n",
    "\t\t# with open(rf'{save_path}\\{sub}_{label}_scan3_opt_data.pkl', 'wb') as f:\n",
    "\t\t# \tpickle.dump(data, f)\n",
    "\t\t# if index>2: break\n",
    "\tprint(past_num, past_past_num, temp_num)\n",
    "\n"
   ]
  },
  {
   "cell_type": "markdown",
   "metadata": {},
   "source": [
    "# 3>4"
   ]
  },
  {
   "cell_type": "code",
   "execution_count": 9,
   "metadata": {},
   "outputs": [
    {
     "data": {
      "application/vnd.jupyter.widget-view+json": {
       "model_id": "20ec4fa3cc5d4e8abdc4034798924316",
       "version_major": 2,
       "version_minor": 0
      },
      "text/plain": [
       "0it [00:00, ?it/s]"
      ]
     },
     "metadata": {},
     "output_type": "display_data"
    },
    {
     "name": "stdout",
     "output_type": "stream",
     "text": [
      "278 23\n"
     ]
    },
    {
     "data": {
      "application/vnd.jupyter.widget-view+json": {
       "model_id": "2aa0e9d99d1f4002ad46da5c98c63329",
       "version_major": 2,
       "version_minor": 0
      },
      "text/plain": [
       "0it [00:00, ?it/s]"
      ]
     },
     "metadata": {},
     "output_type": "display_data"
    },
    {
     "name": "stdout",
     "output_type": "stream",
     "text": [
      "278 23\n"
     ]
    },
    {
     "data": {
      "application/vnd.jupyter.widget-view+json": {
       "model_id": "c2aa035332164ca99a3336e401a958be",
       "version_major": 2,
       "version_minor": 0
      },
      "text/plain": [
       "0it [00:00, ?it/s]"
      ]
     },
     "metadata": {},
     "output_type": "display_data"
    },
    {
     "name": "stdout",
     "output_type": "stream",
     "text": [
      "278 23\n"
     ]
    },
    {
     "data": {
      "application/vnd.jupyter.widget-view+json": {
       "model_id": "4e7fc7622948462298a633d761b14123",
       "version_major": 2,
       "version_minor": 0
      },
      "text/plain": [
       "0it [00:00, ?it/s]"
      ]
     },
     "metadata": {},
     "output_type": "display_data"
    },
    {
     "name": "stdout",
     "output_type": "stream",
     "text": [
      "278 23\n"
     ]
    },
    {
     "data": {
      "application/vnd.jupyter.widget-view+json": {
       "model_id": "69d465c6bd924272ac18e9cdeb6d5934",
       "version_major": 2,
       "version_minor": 0
      },
      "text/plain": [
       "0it [00:00, ?it/s]"
      ]
     },
     "metadata": {},
     "output_type": "display_data"
    },
    {
     "name": "stdout",
     "output_type": "stream",
     "text": [
      "278 23\n"
     ]
    },
    {
     "data": {
      "application/vnd.jupyter.widget-view+json": {
       "model_id": "89bb279477734a1c85295478819bf8b7",
       "version_major": 2,
       "version_minor": 0
      },
      "text/plain": [
       "0it [00:00, ?it/s]"
      ]
     },
     "metadata": {},
     "output_type": "display_data"
    },
    {
     "name": "stdout",
     "output_type": "stream",
     "text": [
      "278 23\n"
     ]
    },
    {
     "data": {
      "application/vnd.jupyter.widget-view+json": {
       "model_id": "a04241076ee848bea7236d64895ba6da",
       "version_major": 2,
       "version_minor": 0
      },
      "text/plain": [
       "0it [00:00, ?it/s]"
      ]
     },
     "metadata": {},
     "output_type": "display_data"
    },
    {
     "name": "stdout",
     "output_type": "stream",
     "text": [
      "278 23\n"
     ]
    },
    {
     "data": {
      "application/vnd.jupyter.widget-view+json": {
       "model_id": "bbcc3f77c09647fa87935fe17602c311",
       "version_major": 2,
       "version_minor": 0
      },
      "text/plain": [
       "0it [00:00, ?it/s]"
      ]
     },
     "metadata": {},
     "output_type": "display_data"
    },
    {
     "name": "stdout",
     "output_type": "stream",
     "text": [
      "278 23\n"
     ]
    },
    {
     "data": {
      "application/vnd.jupyter.widget-view+json": {
       "model_id": "04b1b00dd9934a3a9026abca1e8e23be",
       "version_major": 2,
       "version_minor": 0
      },
      "text/plain": [
       "0it [00:00, ?it/s]"
      ]
     },
     "metadata": {},
     "output_type": "display_data"
    },
    {
     "name": "stdout",
     "output_type": "stream",
     "text": [
      "278 23\n"
     ]
    },
    {
     "data": {
      "application/vnd.jupyter.widget-view+json": {
       "model_id": "3e243ad0606e4ee6b16bde9706b202c1",
       "version_major": 2,
       "version_minor": 0
      },
      "text/plain": [
       "0it [00:00, ?it/s]"
      ]
     },
     "metadata": {},
     "output_type": "display_data"
    },
    {
     "name": "stdout",
     "output_type": "stream",
     "text": [
      "278 23\n"
     ]
    },
    {
     "data": {
      "application/vnd.jupyter.widget-view+json": {
       "model_id": "1c840c69d6a54fb08eaf991515c5e559",
       "version_major": 2,
       "version_minor": 0
      },
      "text/plain": [
       "0it [00:00, ?it/s]"
      ]
     },
     "metadata": {},
     "output_type": "display_data"
    },
    {
     "name": "stdout",
     "output_type": "stream",
     "text": [
      "278 23\n"
     ]
    },
    {
     "data": {
      "application/vnd.jupyter.widget-view+json": {
       "model_id": "aa795f77d20b41489e64604091efb6f9",
       "version_major": 2,
       "version_minor": 0
      },
      "text/plain": [
       "0it [00:00, ?it/s]"
      ]
     },
     "metadata": {},
     "output_type": "display_data"
    },
    {
     "name": "stdout",
     "output_type": "stream",
     "text": [
      "278 23\n"
     ]
    },
    {
     "data": {
      "application/vnd.jupyter.widget-view+json": {
       "model_id": "1883b681f7b34a6797dbe0a3e0258180",
       "version_major": 2,
       "version_minor": 0
      },
      "text/plain": [
       "0it [00:00, ?it/s]"
      ]
     },
     "metadata": {},
     "output_type": "display_data"
    },
    {
     "name": "stdout",
     "output_type": "stream",
     "text": [
      "278 23\n"
     ]
    },
    {
     "data": {
      "application/vnd.jupyter.widget-view+json": {
       "model_id": "f59cb657efe24a93a89491ce59eff6f3",
       "version_major": 2,
       "version_minor": 0
      },
      "text/plain": [
       "0it [00:00, ?it/s]"
      ]
     },
     "metadata": {},
     "output_type": "display_data"
    },
    {
     "name": "stdout",
     "output_type": "stream",
     "text": [
      "278 23\n"
     ]
    },
    {
     "data": {
      "application/vnd.jupyter.widget-view+json": {
       "model_id": "ac5f099c826d49d6927c440e4acfa753",
       "version_major": 2,
       "version_minor": 0
      },
      "text/plain": [
       "0it [00:00, ?it/s]"
      ]
     },
     "metadata": {},
     "output_type": "display_data"
    },
    {
     "name": "stdout",
     "output_type": "stream",
     "text": [
      "278 23\n"
     ]
    },
    {
     "data": {
      "application/vnd.jupyter.widget-view+json": {
       "model_id": "b8a6e130f3e54d1a810c7602268c51c5",
       "version_major": 2,
       "version_minor": 0
      },
      "text/plain": [
       "0it [00:00, ?it/s]"
      ]
     },
     "metadata": {},
     "output_type": "display_data"
    },
    {
     "name": "stdout",
     "output_type": "stream",
     "text": [
      "278 23\n"
     ]
    }
   ],
   "source": [
    "\n",
    "######### Read Hippo Temp Mesh #########\n",
    "classes = [10,11,12,13,17,18,26,28,49,50,51,52,53,54,58,60]\n",
    "classes= [10,11,12,13,17,18,26,28,49,50,51,52,53,54,58,60]\n",
    "for label in classes:\n",
    "\ttemp_mesh = o3d.io.read_triangle_mesh(rf\"D:\\IdeaProjects\\IITP_synth\\lv-parametric-modelling\\whole_brain_structure\\temp_meshes\\{label}_temp.obj\")\n",
    "\ttemp_mesh.compute_vertex_normals()\n",
    "\ttemp_mesh.paint_uniform_color([0.7, 1.0, 0.7])\n",
    "\t# o3d.visualization.draw_geometries([temp_mesh])\n",
    "\n",
    "\ttemp_pcd = o3d.geometry.PointCloud(points=temp_mesh.vertices)\n",
    "\ttemp_pcd.normals = temp_mesh.vertex_normals\n",
    "\n",
    "\t# o3d.visualization.draw_geometries([temp_mesh, R_temp_mesh])\n",
    "\n",
    "\t# filelist = glob.glob(\"W:\\LBC1936_SynthSeg_masks\\Scan1Wave2_T1W\\*\\*SynthSeg.nii.gz\") #synthseg \n",
    "\n",
    "\tsave_path = rf\"D:\\Data-to-KAIST\\Task4) longi-subcortical\\scan4_train_data\\{label}\"\n",
    "\tsubs = os.listdir(save_path)\n",
    "\n",
    "\toptim_path = r\"D:\\Data-to-KAIST\\masks_npy\\synthseg_wave4\"\n",
    "\n",
    "\tpast_optim_path_l = rf\"D:\\Data-to-KAIST\\Task4) longi-subcortical\\scan3_optimed_data\\{label}_scan3\\out\"\n",
    "\n",
    "\n",
    "\tsubs= os.listdir(optim_path)\n",
    "\tpast_num, temp_num = 0,0\n",
    "\tfor index, sub in tqdm(enumerate(subs)):\n",
    "\t\tmasks = np.load(rf\"{optim_path}\\{sub}\")\t\n",
    "\t\ttarget_mask = (masks == label).astype(int)\n",
    "\t\ttarget_pcd = voxel_to_bd_pcd(target_mask)\n",
    "\t\ttarget_pcd = pcd_to_orgin(target_pcd)\n",
    "\t\tsub= sub.split(\".\")[0]\n",
    "\t\tif os.path.isdir(rf\"{past_optim_path_l}\\{sub}\"):\n",
    "\n",
    "\t\t\tpast_mesh = copy.deepcopy(temp_mesh)\n",
    "\t\t\tpast_mesh.vertices = o3d.utility.Vector3dVector(np.load(glob.glob(rf\"{past_optim_path_l}\\{sub}\\5000*.npy\")[0])[0])\n",
    "\t\t\tpast_mesh.compute_vertex_normals()\n",
    "\t\t\tpast_pcd = o3d.geometry.PointCloud(points = past_mesh.vertices)\n",
    "\t\t\tpast_pcd.normals = past_mesh.vertex_normals\n",
    "\n",
    "\t\t\tstand_pcd= past_pcd\n",
    "\t\t\tstand_mesh= past_mesh\n",
    "\t\t\tpast_num+=1\n",
    "\t\telse:\n",
    "\t\t\tstand_pcd = temp_pcd\n",
    "\t\t\tstand_mesh = temp_mesh\n",
    "\t\t\ttemp_num+=1\n",
    "   \n",
    "\n",
    "\t\tregist_mesh_pcd(target_pcd, stand_pcd, normal=False)\n",
    "\t\ttarget_pcd.paint_uniform_color([1, 0.706, 0])\n",
    "\t\ttemp_pcd.paint_uniform_color([0, 0.651, 0.929])\n",
    "\n",
    "\t\t# Save optimization data\n",
    "\t\tdata = {}\n",
    "\t\tdata['vertices'] = np.asarray(stand_mesh.vertices)\n",
    "\t\tdata['faces'] = np.asarray(stand_mesh.triangles)\n",
    "\t\tdata['target'] = np.asarray(target_pcd.points)\n",
    "\t\twith open(rf'{save_path}\\{sub}_{label}_scan4_opt_data.pkl', 'wb') as f:\n",
    "\t\t\tpickle.dump(data, f)\n",
    "   \n",
    "\t\t# o3d.visualization.draw_geometries([target_pcd, stand_mesh])\n",
    "\t\t# if index>2: break\n",
    "\tprint(past_num, temp_num)\n",
    "\n"
   ]
  },
  {
   "cell_type": "markdown",
   "metadata": {},
   "source": [
    "# 4>5"
   ]
  },
  {
   "cell_type": "code",
   "execution_count": null,
   "metadata": {},
   "outputs": [
    {
     "data": {
      "application/vnd.jupyter.widget-view+json": {
       "model_id": "bf1d1b339be54290a4b472f7e78dc0e3",
       "version_major": 2,
       "version_minor": 0
      },
      "text/plain": [
       "0it [00:00, ?it/s]"
      ]
     },
     "metadata": {},
     "output_type": "display_data"
    },
    {
     "ename": "KeyboardInterrupt",
     "evalue": "",
     "output_type": "error",
     "traceback": [
      "\u001b[1;31m---------------------------------------------------------------------------\u001b[0m",
      "\u001b[1;31mKeyboardInterrupt\u001b[0m                         Traceback (most recent call last)",
      "Cell \u001b[1;32mIn[10], line 82\u001b[0m\n\u001b[0;32m     73\u001b[0m \u001b[38;5;66;03m# Save Hippo_L optimization data\u001b[39;00m\n\u001b[0;32m     74\u001b[0m \u001b[38;5;66;03m# data = {}\u001b[39;00m\n\u001b[0;32m     75\u001b[0m \u001b[38;5;66;03m# data['vertices'] = np.asarray(stand_mesh.vertices)\u001b[39;00m\n\u001b[1;32m   (...)\u001b[0m\n\u001b[0;32m     78\u001b[0m \u001b[38;5;66;03m# with open(rf'{save_path}\\{sub}_{label}_scan3_opt_data.pkl', 'wb') as f:\u001b[39;00m\n\u001b[0;32m     79\u001b[0m \u001b[38;5;66;03m# \tpickle.dump(data, f)\u001b[39;00m\n\u001b[0;32m     81\u001b[0m o3d\u001b[38;5;241m.\u001b[39mvisualization\u001b[38;5;241m.\u001b[39mdraw_geometries([target_pcd, stand_mesh])\n\u001b[1;32m---> 82\u001b[0m \u001b[38;5;28;01mif\u001b[39;00m index\u001b[38;5;241m>\u001b[39m\u001b[38;5;241m2\u001b[39m: \u001b[38;5;28;01mbreak\u001b[39;00m\n",
      "\u001b[1;31mKeyboardInterrupt\u001b[0m: "
     ]
    }
   ],
   "source": [
    "######### Read Hippo Temp Mesh #########\n",
    "classes = [10,11,12,13,17,18,26,28,49,50,51,52,53,54,58,60]\n",
    "classes= [49,50,51,52,53,54,58,60]\n",
    "for label in classes:\n",
    "\ttemp_mesh = o3d.io.read_triangle_mesh(rf\"D:\\IdeaProjects\\IITP_synth\\lv-parametric-modelling\\whole_brain_structure\\temp_meshes\\{label}_temp.obj\")\n",
    "\ttemp_mesh.compute_vertex_normals()\n",
    "\ttemp_mesh.paint_uniform_color([0.7, 1.0, 0.7])\n",
    "\t# o3d.visualization.draw_geometries([temp_mesh])\n",
    "\n",
    "\ttemp_pcd = o3d.geometry.PointCloud(points=temp_mesh.vertices)\n",
    "\ttemp_pcd.normals = temp_mesh.vertex_normals\n",
    "\n",
    "\t# o3d.visualization.draw_geometries([temp_mesh, R_temp_mesh])\n",
    "\t# filelist = glob.glob(\"W:\\LBC1936_SynthSeg_masks\\Scan1Wave2_T1W\\*\\*SynthSeg.nii.gz\") #synthseg \n",
    "\n",
    "\tsave_path = rf\"D:\\Data-to-KAIST\\Task4) longi-subcortical\\scan5_train_data\\{label}\"\n",
    "\tsubs = os.listdir(save_path)\n",
    "\n",
    "\toptim_path = r\"D:\\Data-to-KAIST\\masks_npy\\synthseg_wave5\"\n",
    "\n",
    "\tpast_optim_path_l = rf\"D:\\Data-to-KAIST\\Task4) longi-subcortical\\scan4_optimed_data\\{label}_scan4\\out\"\n",
    "\tpast_past_optim_path_l = rf\"D:\\Data-to-KAIST\\Task4) longi-subcortical\\scan3_optimed_data\\{label}_scan3\\out\"\n",
    "\tpast_past_past_optim_path_l = rf\"D:\\Data-to-KAIST\\Task4) longi-subcortical\\scan1_optimed_data\\{label}_scan1\\out\"\n",
    "\n",
    "\n",
    "\tsubs= os.listdir(optim_path)\n",
    "\t\n",
    "\tpast_num,past_past_num,temp_num=0,0,0\n",
    "\tfor index, sub in tqdm(enumerate(subs)):\n",
    "\t\tmasks = np.load(rf\"{optim_path}\\{sub}\")\t\n",
    "\t\ttarget_mask = (masks == label).astype(int)\n",
    "\t\ttarget_pcd = voxel_to_bd_pcd(target_mask)\n",
    "\t\ttarget_pcd = pcd_to_orgin(target_pcd)\n",
    "\t\tsub= sub.split(\".\")[0]\n",
    "\t\tif os.path.isdir(rf\"{past_optim_path_l}\\{sub}\"):\n",
    "\n",
    "\t\t\tpast_mesh = copy.deepcopy(temp_mesh)\n",
    "\t\t\tpast_mesh.vertices = o3d.utility.Vector3dVector(np.load(glob.glob(rf\"{past_optim_path_l}\\{sub}\\5000*.npy\")[0])[0])\n",
    "\t\t\tpast_mesh.compute_vertex_normals()\n",
    "\t\t\tpast_pcd = o3d.geometry.PointCloud(points = past_mesh.vertices)\n",
    "\t\t\tpast_pcd.normals = past_mesh.vertex_normals\n",
    "\n",
    "\t\t\tstand_pcd= past_pcd\n",
    "\t\t\tstand_mesh= past_mesh\n",
    "\t\t\tpast_num+=1\n",
    "\t\telif os.path.isdir(rf\"{past_past_optim_path_l}\\{sub}\"):\n",
    "\n",
    "\t\t\tpast_mesh = copy.deepcopy(temp_mesh)\n",
    "\t\t\tpast_mesh.vertices = o3d.utility.Vector3dVector(np.load(glob.glob(rf\"{past_past_optim_path_l}\\{sub}\\5000*.npy\")[0])[0])\n",
    "\t\t\tpast_mesh.compute_vertex_normals()\n",
    "\t\t\tpast_pcd = o3d.geometry.PointCloud(points = past_mesh.vertices)\n",
    "\t\t\tpast_pcd.normals = past_mesh.vertex_normals\n",
    "\n",
    "\t\t\tstand_pcd= past_pcd\n",
    "\t\t\tstand_mesh= past_mesh\n",
    "\t\t\tpast_past_num+=1\n",
    "\t\telif os.path.isdir(rf\"{past_past_past_optim_path_l}\\{sub}\"):\n",
    "\n",
    "\t\t\tpast_mesh = copy.deepcopy(temp_mesh)\n",
    "\t\t\tpast_mesh.vertices = o3d.utility.Vector3dVector(np.load(glob.glob(rf\"{past_past_past_optim_path_l}\\{sub}\\5000*.npy\")[0])[0])\n",
    "\t\t\tpast_mesh.compute_vertex_normals()\n",
    "\t\t\tpast_pcd = o3d.geometry.PointCloud(points = past_mesh.vertices)\n",
    "\t\t\tpast_pcd.normals = past_mesh.vertex_normals\n",
    "\n",
    "\t\t\tstand_pcd= past_pcd\n",
    "\t\t\tstand_mesh= past_mesh\n",
    "\t\t\ttemp_num+=1\n",
    "\n",
    "\n",
    "\t\tregist_mesh_pcd(target_pcd, stand_pcd, normal=False)\n",
    "\t\ttarget_pcd.paint_uniform_color([1, 0.706, 0])\n",
    "\t\ttemp_pcd.paint_uniform_color([0, 0.651, 0.929])\n",
    "\n",
    "\n",
    "\t\t# Save Hippo_L optimization data\n",
    "\t\t# data = {}\n",
    "\t\t# data['vertices'] = np.asarray(stand_mesh.vertices)\n",
    "\t\t# data['faces'] = np.asarray(stand_mesh.triangles)\n",
    "\t\t# data['target'] = np.asarray(target_pcd.points)\n",
    "\t\t# with open(rf'{save_path}\\{sub}_{label}_scan3_opt_data.pkl', 'wb') as f:\n",
    "\t\t# \tpickle.dump(data, f)\n",
    "\n",
    "\t\to3d.visualization.draw_geometries([target_pcd, stand_mesh])\n",
    "\t\tif index>2: break\n",
    "\tprint(past_num, past_past_num, temp_num)\n",
    "\n"
   ]
  },
  {
   "cell_type": "code",
   "execution_count": null,
   "metadata": {},
   "outputs": [],
   "source": []
  }
 ],
 "metadata": {
  "kernelspec": {
   "display_name": "o3d",
   "language": "python",
   "name": "python3"
  },
  "language_info": {
   "codemirror_mode": {
    "name": "ipython",
    "version": 3
   },
   "file_extension": ".py",
   "mimetype": "text/x-python",
   "name": "python",
   "nbconvert_exporter": "python",
   "pygments_lexer": "ipython3",
   "version": "3.10.14"
  }
 },
 "nbformat": 4,
 "nbformat_minor": 2
}
